{
  "nbformat": 4,
  "nbformat_minor": 0,
  "metadata": {
    "colab": {
      "provenance": [],
      "mount_file_id": "1eDfib0dh6DLRibLhW8vDTpdSoAvGgJz-",
      "authorship_tag": "ABX9TyN3FzTgLVE3qHveVrkBKlx7",
      "include_colab_link": true
    },
    "kernelspec": {
      "name": "python3",
      "display_name": "Python 3"
    },
    "language_info": {
      "name": "python"
    }
  },
  "cells": [
    {
      "cell_type": "markdown",
      "metadata": {
        "id": "view-in-github",
        "colab_type": "text"
      },
      "source": [
        "<a href=\"https://colab.research.google.com/github/LudovicaCi/PodcastSentimentAnalyzer/blob/main/DataPreprocessing.ipynb\" target=\"_parent\"><img src=\"https://colab.research.google.com/assets/colab-badge.svg\" alt=\"Open In Colab\"/></a>"
      ]
    },
    {
      "cell_type": "markdown",
      "source": [
        "# Dataset Import\n"
      ],
      "metadata": {
        "id": "VjUtxXq6I5r-"
      }
    },
    {
      "cell_type": "code",
      "source": [
        "import pandas as pd\n",
        "\n",
        "\n",
        "reviews = pd.read_csv('/content/drive/MyDrive/DataMining/Dataset/reviews_podcast.csv')"
      ],
      "metadata": {
        "id": "oF4OwblQEr-C"
      },
      "execution_count": null,
      "outputs": []
    },
    {
      "cell_type": "code",
      "source": [
        "print(reviews.shape[0])"
      ],
      "metadata": {
        "colab": {
          "base_uri": "https://localhost:8080/"
        },
        "id": "vGGXDDqdHiHO",
        "outputId": "e9e6cc1c-cb9b-4aac-9ea1-6661e390e055"
      },
      "execution_count": null,
      "outputs": [
        {
          "output_type": "stream",
          "name": "stdout",
          "text": [
            "5607021\n"
          ]
        }
      ]
    },
    {
      "cell_type": "code",
      "source": [
        "print(reviews.head())"
      ],
      "metadata": {
        "colab": {
          "base_uri": "https://localhost:8080/"
        },
        "id": "cwbd9aYym16y",
        "outputId": "b9973357-ec3c-491c-f16f-c05c32a2680c"
      },
      "execution_count": null,
      "outputs": [
        {
          "output_type": "stream",
          "name": "stdout",
          "text": [
            "                         podcast_id  \\\n",
            "0  52e3d2c4fab4e80a8bb75ad144671d96   \n",
            "1  52e3d2c4fab4e80a8bb75ad144671d96   \n",
            "2  52e3d2c4fab4e80a8bb75ad144671d96   \n",
            "3  52e3d2c4fab4e80a8bb75ad144671d96   \n",
            "4  52e3d2c4fab4e80a8bb75ad144671d96   \n",
            "\n",
            "                                           title  \\\n",
            "0                                           Argh   \n",
            "1           Miss gross overrated as interviewer.   \n",
            "2                     I love Terri and Fresh Air   \n",
            "3  Fresh Air subscription changes to Code Switch   \n",
            "4                                 Climate change   \n",
            "\n",
            "                                             content  rating        author_id  \\\n",
            "0  What the heck is this show? And why can’t I de...       1  a23655ce5565f32   \n",
            "1  The Howard stern interview was horrible. I lea...       1  e5d461c5f91c8d2   \n",
            "2  People get really pissy about this beautiful f...       5  806cc75442c8f3d   \n",
            "3  I’ve been a subscriber to Fresh Air for over a...       4  3e1e7e8417a3e85   \n",
            "4  Hello, my name is Lily Rudman and I am a fifth...       5  7c680144b582c6d   \n",
            "\n",
            "                  created_at  \n",
            "0  2019-05-01 01:24:01+00:00  \n",
            "1  2019-06-07 14:25:34+00:00  \n",
            "2  2019-05-15 09:42:53+00:00  \n",
            "3  2019-05-06 02:39:10+00:00  \n",
            "4  2019-04-18 00:37:51+00:00  \n"
          ]
        }
      ]
    },
    {
      "cell_type": "code",
      "source": [
        "print(reviews.columns)"
      ],
      "metadata": {
        "colab": {
          "base_uri": "https://localhost:8080/"
        },
        "id": "JbBEpmmwEyY6",
        "outputId": "8f7e7f98-faf8-4d9b-b50d-6329e5504c52"
      },
      "execution_count": null,
      "outputs": [
        {
          "output_type": "stream",
          "name": "stdout",
          "text": [
            "Index(['podcast_id', 'title', 'content', 'rating', 'author_id', 'created_at'], dtype='object')\n"
          ]
        }
      ]
    },
    {
      "cell_type": "markdown",
      "source": [
        "# Data cleaning\n"
      ],
      "metadata": {
        "id": "0yJu5n4TJcwQ"
      }
    },
    {
      "cell_type": "markdown",
      "source": [
        "\n",
        "\n",
        "*   remove empty reviews, rating and date values\n",
        "*   remove duplicate review contents\n",
        "\n"
      ],
      "metadata": {
        "id": "6lnwvmjTJzJ8"
      }
    },
    {
      "cell_type": "code",
      "source": [
        "reviews_cleaned = reviews.dropna(subset=['content', 'rating', 'created_at'])"
      ],
      "metadata": {
        "id": "gQdGwmDd9Vdi"
      },
      "execution_count": null,
      "outputs": []
    },
    {
      "cell_type": "code",
      "source": [
        "print(reviews_cleaned.shape[0])"
      ],
      "metadata": {
        "colab": {
          "base_uri": "https://localhost:8080/"
        },
        "id": "KRpr3thg9337",
        "outputId": "a1fadca9-4064-46fd-ead6-588b027aa3b2"
      },
      "execution_count": null,
      "outputs": [
        {
          "output_type": "stream",
          "name": "stdout",
          "text": [
            "5606998\n"
          ]
        }
      ]
    },
    {
      "cell_type": "code",
      "source": [
        "# Check for the presence of duplicate reviews based on the content of the \"review_content\" column\n",
        "duplicates = reviews_cleaned.duplicated(subset=['content'], keep=False)\n",
        "\n",
        "# Display the duplicate rows (True) in the original DataFrame\n",
        "print(reviews_cleaned[duplicates])"
      ],
      "metadata": {
        "colab": {
          "base_uri": "https://localhost:8080/"
        },
        "id": "o338tEpL_FK5",
        "outputId": "7bb91922-ea6b-42f1-a497-7979a3a0386c"
      },
      "execution_count": null,
      "outputs": [
        {
          "output_type": "stream",
          "name": "stdout",
          "text": [
            "                               podcast_id  \\\n",
            "19       52e3d2c4fab4e80a8bb75ad144671d96   \n",
            "64       52e3d2c4fab4e80a8bb75ad144671d96   \n",
            "65       52e3d2c4fab4e80a8bb75ad144671d96   \n",
            "81       52e3d2c4fab4e80a8bb75ad144671d96   \n",
            "109      52e3d2c4fab4e80a8bb75ad144671d96   \n",
            "...                                   ...   \n",
            "5606638  1b2c0e2339620feebb5327c049654e2a   \n",
            "5606752  e6410ca408815fb254edbc95a182c3c4   \n",
            "5606820  14fcc5d07459da655e3a4af116cf1d17   \n",
            "5606960  2dd2b41126f3029088453a8273d582c8   \n",
            "5606983  2dd2b41126f3029088453a8273d582c8   \n",
            "\n",
            "                                         title  \\\n",
            "19                 Please fix subscribe button   \n",
            "64                                          Ok   \n",
            "65                                  Great Show   \n",
            "81                                         Boo   \n",
            "109                                  Fresh air   \n",
            "...                                        ...   \n",
            "5606638                            Fifty seven   \n",
            "5606752  Inception was great: crashed & burned   \n",
            "5606820                          Great podcast   \n",
            "5606960                            I love them   \n",
            "5606983                 Heartfelt and kindness   \n",
            "\n",
            "                                                   content  rating  \\\n",
            "19       Love this show. Always listen to a few episode...       5   \n",
            "64                                                      Ok       5   \n",
            "65                                           Great podcast       5   \n",
            "81                                                     Boo       1   \n",
            "109                                               Is great       5   \n",
            "...                                                    ...     ...   \n",
            "5606638                                         Still good       5   \n",
            "5606752  The first episodes: Great work, Mandy and team...       2   \n",
            "5606820                                    Love the show!!       5   \n",
            "5606960                                   I just love them       5   \n",
            "5606983                                        Thank you 💜       5   \n",
            "\n",
            "               author_id                 created_at  \n",
            "19       6295e27f5cf056a  2019-06-11 17:32:59+00:00  \n",
            "64       9e223310ae8a6d5  2016-02-17 13:18:49+00:00  \n",
            "65       5986bd954c26102  2016-04-08 13:42:47+00:00  \n",
            "81       d4868ac15f38ef9  2015-09-17 00:30:38+00:00  \n",
            "109      96d7aab9c0518a0  2016-05-18 01:34:53+00:00  \n",
            "...                  ...                        ...  \n",
            "5606638  ad23a80121bbd1a  2023-02-28 03:09:39+00:00  \n",
            "5606752  cd05f3e331ccf53  2023-02-27 18:04:31+00:00  \n",
            "5606820  76aff562da1fd30  2023-02-27 15:26:26+00:00  \n",
            "5606960  64b8e060824e1e3  2023-03-01 03:16:29+00:00  \n",
            "5606983  1bc5d37e94a5ba3  2023-02-27 14:28:21+00:00  \n",
            "\n",
            "[215277 rows x 6 columns]\n"
          ]
        }
      ]
    },
    {
      "cell_type": "code",
      "source": [
        "reviews_cleaned = reviews_cleaned.drop_duplicates(subset=['content'])"
      ],
      "metadata": {
        "id": "pGtPrGAz_y3G"
      },
      "execution_count": null,
      "outputs": []
    },
    {
      "cell_type": "code",
      "source": [
        "print(reviews_cleaned.columns)"
      ],
      "metadata": {
        "colab": {
          "base_uri": "https://localhost:8080/"
        },
        "id": "rGHKbfbf_b5F",
        "outputId": "201f9363-834f-419e-c7da-7ffe50ba6c43"
      },
      "execution_count": null,
      "outputs": [
        {
          "output_type": "stream",
          "name": "stdout",
          "text": [
            "Index(['podcast_id', 'title', 'content', 'rating', 'author_id', 'created_at'], dtype='object')\n"
          ]
        }
      ]
    },
    {
      "cell_type": "code",
      "source": [
        "reviews_cleaned.head()"
      ],
      "metadata": {
        "colab": {
          "base_uri": "https://localhost:8080/",
          "height": 293
        },
        "id": "Hnk1oVDlDyvP",
        "outputId": "70e44cd1-dcc7-472f-9c2a-204467fb79b9"
      },
      "execution_count": null,
      "outputs": [
        {
          "output_type": "execute_result",
          "data": {
            "text/plain": [
              "                         podcast_id  \\\n",
              "0  52e3d2c4fab4e80a8bb75ad144671d96   \n",
              "1  52e3d2c4fab4e80a8bb75ad144671d96   \n",
              "2  52e3d2c4fab4e80a8bb75ad144671d96   \n",
              "3  52e3d2c4fab4e80a8bb75ad144671d96   \n",
              "4  52e3d2c4fab4e80a8bb75ad144671d96   \n",
              "\n",
              "                                           title  \\\n",
              "0                                           Argh   \n",
              "1           Miss gross overrated as interviewer.   \n",
              "2                     I love Terri and Fresh Air   \n",
              "3  Fresh Air subscription changes to Code Switch   \n",
              "4                                 Climate change   \n",
              "\n",
              "                                             content  rating        author_id  \\\n",
              "0  What the heck is this show? And why can’t I de...       1  a23655ce5565f32   \n",
              "1  The Howard stern interview was horrible. I lea...       1  e5d461c5f91c8d2   \n",
              "2  People get really pissy about this beautiful f...       5  806cc75442c8f3d   \n",
              "3  I’ve been a subscriber to Fresh Air for over a...       4  3e1e7e8417a3e85   \n",
              "4  Hello, my name is Lily Rudman and I am a fifth...       5  7c680144b582c6d   \n",
              "\n",
              "                  created_at  \n",
              "0  2019-05-01 01:24:01+00:00  \n",
              "1  2019-06-07 14:25:34+00:00  \n",
              "2  2019-05-15 09:42:53+00:00  \n",
              "3  2019-05-06 02:39:10+00:00  \n",
              "4  2019-04-18 00:37:51+00:00  "
            ],
            "text/html": [
              "\n",
              "  <div id=\"df-faad1383-70be-4625-bdbd-9a3cc966feb6\" class=\"colab-df-container\">\n",
              "    <div>\n",
              "<style scoped>\n",
              "    .dataframe tbody tr th:only-of-type {\n",
              "        vertical-align: middle;\n",
              "    }\n",
              "\n",
              "    .dataframe tbody tr th {\n",
              "        vertical-align: top;\n",
              "    }\n",
              "\n",
              "    .dataframe thead th {\n",
              "        text-align: right;\n",
              "    }\n",
              "</style>\n",
              "<table border=\"1\" class=\"dataframe\">\n",
              "  <thead>\n",
              "    <tr style=\"text-align: right;\">\n",
              "      <th></th>\n",
              "      <th>podcast_id</th>\n",
              "      <th>title</th>\n",
              "      <th>content</th>\n",
              "      <th>rating</th>\n",
              "      <th>author_id</th>\n",
              "      <th>created_at</th>\n",
              "    </tr>\n",
              "  </thead>\n",
              "  <tbody>\n",
              "    <tr>\n",
              "      <th>0</th>\n",
              "      <td>52e3d2c4fab4e80a8bb75ad144671d96</td>\n",
              "      <td>Argh</td>\n",
              "      <td>What the heck is this show? And why can’t I de...</td>\n",
              "      <td>1</td>\n",
              "      <td>a23655ce5565f32</td>\n",
              "      <td>2019-05-01 01:24:01+00:00</td>\n",
              "    </tr>\n",
              "    <tr>\n",
              "      <th>1</th>\n",
              "      <td>52e3d2c4fab4e80a8bb75ad144671d96</td>\n",
              "      <td>Miss gross overrated as interviewer.</td>\n",
              "      <td>The Howard stern interview was horrible. I lea...</td>\n",
              "      <td>1</td>\n",
              "      <td>e5d461c5f91c8d2</td>\n",
              "      <td>2019-06-07 14:25:34+00:00</td>\n",
              "    </tr>\n",
              "    <tr>\n",
              "      <th>2</th>\n",
              "      <td>52e3d2c4fab4e80a8bb75ad144671d96</td>\n",
              "      <td>I love Terri and Fresh Air</td>\n",
              "      <td>People get really pissy about this beautiful f...</td>\n",
              "      <td>5</td>\n",
              "      <td>806cc75442c8f3d</td>\n",
              "      <td>2019-05-15 09:42:53+00:00</td>\n",
              "    </tr>\n",
              "    <tr>\n",
              "      <th>3</th>\n",
              "      <td>52e3d2c4fab4e80a8bb75ad144671d96</td>\n",
              "      <td>Fresh Air subscription changes to Code Switch</td>\n",
              "      <td>I’ve been a subscriber to Fresh Air for over a...</td>\n",
              "      <td>4</td>\n",
              "      <td>3e1e7e8417a3e85</td>\n",
              "      <td>2019-05-06 02:39:10+00:00</td>\n",
              "    </tr>\n",
              "    <tr>\n",
              "      <th>4</th>\n",
              "      <td>52e3d2c4fab4e80a8bb75ad144671d96</td>\n",
              "      <td>Climate change</td>\n",
              "      <td>Hello, my name is Lily Rudman and I am a fifth...</td>\n",
              "      <td>5</td>\n",
              "      <td>7c680144b582c6d</td>\n",
              "      <td>2019-04-18 00:37:51+00:00</td>\n",
              "    </tr>\n",
              "  </tbody>\n",
              "</table>\n",
              "</div>\n",
              "    <div class=\"colab-df-buttons\">\n",
              "\n",
              "  <div class=\"colab-df-container\">\n",
              "    <button class=\"colab-df-convert\" onclick=\"convertToInteractive('df-faad1383-70be-4625-bdbd-9a3cc966feb6')\"\n",
              "            title=\"Convert this dataframe to an interactive table.\"\n",
              "            style=\"display:none;\">\n",
              "\n",
              "  <svg xmlns=\"http://www.w3.org/2000/svg\" height=\"24px\" viewBox=\"0 -960 960 960\">\n",
              "    <path d=\"M120-120v-720h720v720H120Zm60-500h600v-160H180v160Zm220 220h160v-160H400v160Zm0 220h160v-160H400v160ZM180-400h160v-160H180v160Zm440 0h160v-160H620v160ZM180-180h160v-160H180v160Zm440 0h160v-160H620v160Z\"/>\n",
              "  </svg>\n",
              "    </button>\n",
              "\n",
              "  <style>\n",
              "    .colab-df-container {\n",
              "      display:flex;\n",
              "      gap: 12px;\n",
              "    }\n",
              "\n",
              "    .colab-df-convert {\n",
              "      background-color: #E8F0FE;\n",
              "      border: none;\n",
              "      border-radius: 50%;\n",
              "      cursor: pointer;\n",
              "      display: none;\n",
              "      fill: #1967D2;\n",
              "      height: 32px;\n",
              "      padding: 0 0 0 0;\n",
              "      width: 32px;\n",
              "    }\n",
              "\n",
              "    .colab-df-convert:hover {\n",
              "      background-color: #E2EBFA;\n",
              "      box-shadow: 0px 1px 2px rgba(60, 64, 67, 0.3), 0px 1px 3px 1px rgba(60, 64, 67, 0.15);\n",
              "      fill: #174EA6;\n",
              "    }\n",
              "\n",
              "    .colab-df-buttons div {\n",
              "      margin-bottom: 4px;\n",
              "    }\n",
              "\n",
              "    [theme=dark] .colab-df-convert {\n",
              "      background-color: #3B4455;\n",
              "      fill: #D2E3FC;\n",
              "    }\n",
              "\n",
              "    [theme=dark] .colab-df-convert:hover {\n",
              "      background-color: #434B5C;\n",
              "      box-shadow: 0px 1px 3px 1px rgba(0, 0, 0, 0.15);\n",
              "      filter: drop-shadow(0px 1px 2px rgba(0, 0, 0, 0.3));\n",
              "      fill: #FFFFFF;\n",
              "    }\n",
              "  </style>\n",
              "\n",
              "    <script>\n",
              "      const buttonEl =\n",
              "        document.querySelector('#df-faad1383-70be-4625-bdbd-9a3cc966feb6 button.colab-df-convert');\n",
              "      buttonEl.style.display =\n",
              "        google.colab.kernel.accessAllowed ? 'block' : 'none';\n",
              "\n",
              "      async function convertToInteractive(key) {\n",
              "        const element = document.querySelector('#df-faad1383-70be-4625-bdbd-9a3cc966feb6');\n",
              "        const dataTable =\n",
              "          await google.colab.kernel.invokeFunction('convertToInteractive',\n",
              "                                                    [key], {});\n",
              "        if (!dataTable) return;\n",
              "\n",
              "        const docLinkHtml = 'Like what you see? Visit the ' +\n",
              "          '<a target=\"_blank\" href=https://colab.research.google.com/notebooks/data_table.ipynb>data table notebook</a>'\n",
              "          + ' to learn more about interactive tables.';\n",
              "        element.innerHTML = '';\n",
              "        dataTable['output_type'] = 'display_data';\n",
              "        await google.colab.output.renderOutput(dataTable, element);\n",
              "        const docLink = document.createElement('div');\n",
              "        docLink.innerHTML = docLinkHtml;\n",
              "        element.appendChild(docLink);\n",
              "      }\n",
              "    </script>\n",
              "  </div>\n",
              "\n",
              "\n",
              "<div id=\"df-054caf6d-a400-4a36-9aa8-843fd1c891f0\">\n",
              "  <button class=\"colab-df-quickchart\" onclick=\"quickchart('df-054caf6d-a400-4a36-9aa8-843fd1c891f0')\"\n",
              "            title=\"Suggest charts\"\n",
              "            style=\"display:none;\">\n",
              "\n",
              "<svg xmlns=\"http://www.w3.org/2000/svg\" height=\"24px\"viewBox=\"0 0 24 24\"\n",
              "     width=\"24px\">\n",
              "    <g>\n",
              "        <path d=\"M19 3H5c-1.1 0-2 .9-2 2v14c0 1.1.9 2 2 2h14c1.1 0 2-.9 2-2V5c0-1.1-.9-2-2-2zM9 17H7v-7h2v7zm4 0h-2V7h2v10zm4 0h-2v-4h2v4z\"/>\n",
              "    </g>\n",
              "</svg>\n",
              "  </button>\n",
              "\n",
              "<style>\n",
              "  .colab-df-quickchart {\n",
              "      --bg-color: #E8F0FE;\n",
              "      --fill-color: #1967D2;\n",
              "      --hover-bg-color: #E2EBFA;\n",
              "      --hover-fill-color: #174EA6;\n",
              "      --disabled-fill-color: #AAA;\n",
              "      --disabled-bg-color: #DDD;\n",
              "  }\n",
              "\n",
              "  [theme=dark] .colab-df-quickchart {\n",
              "      --bg-color: #3B4455;\n",
              "      --fill-color: #D2E3FC;\n",
              "      --hover-bg-color: #434B5C;\n",
              "      --hover-fill-color: #FFFFFF;\n",
              "      --disabled-bg-color: #3B4455;\n",
              "      --disabled-fill-color: #666;\n",
              "  }\n",
              "\n",
              "  .colab-df-quickchart {\n",
              "    background-color: var(--bg-color);\n",
              "    border: none;\n",
              "    border-radius: 50%;\n",
              "    cursor: pointer;\n",
              "    display: none;\n",
              "    fill: var(--fill-color);\n",
              "    height: 32px;\n",
              "    padding: 0;\n",
              "    width: 32px;\n",
              "  }\n",
              "\n",
              "  .colab-df-quickchart:hover {\n",
              "    background-color: var(--hover-bg-color);\n",
              "    box-shadow: 0 1px 2px rgba(60, 64, 67, 0.3), 0 1px 3px 1px rgba(60, 64, 67, 0.15);\n",
              "    fill: var(--button-hover-fill-color);\n",
              "  }\n",
              "\n",
              "  .colab-df-quickchart-complete:disabled,\n",
              "  .colab-df-quickchart-complete:disabled:hover {\n",
              "    background-color: var(--disabled-bg-color);\n",
              "    fill: var(--disabled-fill-color);\n",
              "    box-shadow: none;\n",
              "  }\n",
              "\n",
              "  .colab-df-spinner {\n",
              "    border: 2px solid var(--fill-color);\n",
              "    border-color: transparent;\n",
              "    border-bottom-color: var(--fill-color);\n",
              "    animation:\n",
              "      spin 1s steps(1) infinite;\n",
              "  }\n",
              "\n",
              "  @keyframes spin {\n",
              "    0% {\n",
              "      border-color: transparent;\n",
              "      border-bottom-color: var(--fill-color);\n",
              "      border-left-color: var(--fill-color);\n",
              "    }\n",
              "    20% {\n",
              "      border-color: transparent;\n",
              "      border-left-color: var(--fill-color);\n",
              "      border-top-color: var(--fill-color);\n",
              "    }\n",
              "    30% {\n",
              "      border-color: transparent;\n",
              "      border-left-color: var(--fill-color);\n",
              "      border-top-color: var(--fill-color);\n",
              "      border-right-color: var(--fill-color);\n",
              "    }\n",
              "    40% {\n",
              "      border-color: transparent;\n",
              "      border-right-color: var(--fill-color);\n",
              "      border-top-color: var(--fill-color);\n",
              "    }\n",
              "    60% {\n",
              "      border-color: transparent;\n",
              "      border-right-color: var(--fill-color);\n",
              "    }\n",
              "    80% {\n",
              "      border-color: transparent;\n",
              "      border-right-color: var(--fill-color);\n",
              "      border-bottom-color: var(--fill-color);\n",
              "    }\n",
              "    90% {\n",
              "      border-color: transparent;\n",
              "      border-bottom-color: var(--fill-color);\n",
              "    }\n",
              "  }\n",
              "</style>\n",
              "\n",
              "  <script>\n",
              "    async function quickchart(key) {\n",
              "      const quickchartButtonEl =\n",
              "        document.querySelector('#' + key + ' button');\n",
              "      quickchartButtonEl.disabled = true;  // To prevent multiple clicks.\n",
              "      quickchartButtonEl.classList.add('colab-df-spinner');\n",
              "      try {\n",
              "        const charts = await google.colab.kernel.invokeFunction(\n",
              "            'suggestCharts', [key], {});\n",
              "      } catch (error) {\n",
              "        console.error('Error during call to suggestCharts:', error);\n",
              "      }\n",
              "      quickchartButtonEl.classList.remove('colab-df-spinner');\n",
              "      quickchartButtonEl.classList.add('colab-df-quickchart-complete');\n",
              "    }\n",
              "    (() => {\n",
              "      let quickchartButtonEl =\n",
              "        document.querySelector('#df-054caf6d-a400-4a36-9aa8-843fd1c891f0 button');\n",
              "      quickchartButtonEl.style.display =\n",
              "        google.colab.kernel.accessAllowed ? 'block' : 'none';\n",
              "    })();\n",
              "  </script>\n",
              "</div>\n",
              "    </div>\n",
              "  </div>\n"
            ]
          },
          "metadata": {},
          "execution_count": 10
        }
      ]
    },
    {
      "cell_type": "code",
      "source": [
        "import pandas as pd\n",
        "import re\n",
        "import unicodedata\n",
        "\n",
        "def preprocess_text(text):\n",
        "    # Remove emoticons using regular expressions\n",
        "    text = re.sub(r'(?::|;|=)(?:-)?(?:\\)|\\(|D|P)', '', text)\n",
        "\n",
        "    # Remove URLs\n",
        "    text = re.sub(r'http\\S+|www\\S+|https\\S+', '', text, flags=re.MULTILINE)\n",
        "\n",
        "    # Remove HTML tags\n",
        "    text = re.sub(r'<.*?>', '', text)\n",
        "\n",
        "    # Remove Unicode characters\n",
        "    text = unicodedata.normalize('NFKD', text).encode('ascii', 'ignore').decode('utf-8')\n",
        "\n",
        "    # Remove special characters, numbers, and punctuation\n",
        "    text = re.sub(r'[^A-Za-z\\s]', '', text)\n",
        "\n",
        "    # Convert text to lowercase\n",
        "    text = text.lower()\n",
        "\n",
        "    # Eliminate leading and trailing whitespaces\n",
        "    text = text.strip()\n",
        "\n",
        "    # Remove extra spaces\n",
        "    text = ' '.join(text.split())\n",
        "\n",
        "    return text"
      ],
      "metadata": {
        "id": "zA4Uq2xrQJvz"
      },
      "execution_count": null,
      "outputs": []
    },
    {
      "cell_type": "code",
      "source": [
        "# Apply the preprocess_text function to the 'content' attribute\n",
        "reviews_cleaned['content'] = reviews_cleaned['content'].apply(preprocess_text)"
      ],
      "metadata": {
        "id": "PSk1IcsYQfKZ"
      },
      "execution_count": null,
      "outputs": []
    },
    {
      "cell_type": "markdown",
      "source": [
        "# Data reduction\n"
      ],
      "metadata": {
        "id": "Bt9TJwYmB0_I"
      }
    },
    {
      "cell_type": "code",
      "source": [
        "# List of columns to keep\n",
        "columns_to_keep =['content', 'rating', 'created_at']\n",
        "# Remove all columns except the specified ones\n",
        "reviews = reviews_cleaned[columns_to_keep]"
      ],
      "metadata": {
        "id": "JgzDmjN_B6bl"
      },
      "execution_count": null,
      "outputs": []
    },
    {
      "cell_type": "code",
      "source": [
        "print(reviews.columns)"
      ],
      "metadata": {
        "colab": {
          "base_uri": "https://localhost:8080/"
        },
        "id": "wm-E3bhlCjwn",
        "outputId": "186f26a2-e564-4ca7-f4e4-818c84f97141"
      },
      "execution_count": null,
      "outputs": [
        {
          "output_type": "stream",
          "name": "stdout",
          "text": [
            "Index(['content', 'rating', 'created_at'], dtype='object')\n"
          ]
        }
      ]
    },
    {
      "cell_type": "code",
      "source": [
        "print(reviews.shape[0])"
      ],
      "metadata": {
        "colab": {
          "base_uri": "https://localhost:8080/"
        },
        "id": "ga0azlZ8CoJA",
        "outputId": "5d9d2bde-7563-45de-f1da-9bd1fb606098"
      },
      "execution_count": null,
      "outputs": [
        {
          "output_type": "stream",
          "name": "stdout",
          "text": [
            "5430620\n"
          ]
        }
      ]
    },
    {
      "cell_type": "code",
      "source": [
        "import matplotlib.pyplot as plt\n",
        "\n",
        "# Convert the 'created_at' column to a datetime object\n",
        "reviews['created_at'] = pd.to_datetime(reviews['created_at'])\n",
        "\n",
        "# Extract the year from the 'created_at' column\n",
        "reviews['Year'] = reviews['created_at'].dt.year\n",
        "\n",
        "# Calculate the distribution of reviews per year\n",
        "distribuzione_per_anno = reviews['Year'].value_counts().sort_index()\n",
        "\n",
        "# Create a bar chart\n",
        "plt.bar(distribuzione_per_anno.index, distribuzione_per_anno.values, color='skyblue')\n",
        "plt.xlabel('Year')\n",
        "plt.ylabel('Number of Reviews')\n",
        "plt.title('Distribution of Reviews by Year')\n",
        "\n",
        "# Add year labels above the bars\n",
        "for year, review_count in zip(distribuzione_per_anno.index, distribuzione_per_anno.values):\n",
        "    plt.text(year, review_count + 0.1, str(year), ha='center', va='bottom', fontsize=8, color='black')\n",
        "\n",
        "plt.show()"
      ],
      "metadata": {
        "colab": {
          "base_uri": "https://localhost:8080/",
          "height": 680
        },
        "id": "ezmBArphtZhA",
        "outputId": "9540bd37-9f6a-404c-8435-d8cc31025a16"
      },
      "execution_count": null,
      "outputs": [
        {
          "output_type": "stream",
          "name": "stderr",
          "text": [
            "<ipython-input-16-fa7b10746a94>:4: SettingWithCopyWarning: \n",
            "A value is trying to be set on a copy of a slice from a DataFrame.\n",
            "Try using .loc[row_indexer,col_indexer] = value instead\n",
            "\n",
            "See the caveats in the documentation: https://pandas.pydata.org/pandas-docs/stable/user_guide/indexing.html#returning-a-view-versus-a-copy\n",
            "  reviews['created_at'] = pd.to_datetime(reviews['created_at'])\n",
            "<ipython-input-16-fa7b10746a94>:7: SettingWithCopyWarning: \n",
            "A value is trying to be set on a copy of a slice from a DataFrame.\n",
            "Try using .loc[row_indexer,col_indexer] = value instead\n",
            "\n",
            "See the caveats in the documentation: https://pandas.pydata.org/pandas-docs/stable/user_guide/indexing.html#returning-a-view-versus-a-copy\n",
            "  reviews['Year'] = reviews['created_at'].dt.year\n"
          ]
        },
        {
          "output_type": "display_data",
          "data": {
            "text/plain": [
              "<Figure size 640x480 with 1 Axes>"
            ],
            "image/png": "[encoded data removed]"
          },
          "metadata": {}
        }
      ]
    },
    {
      "cell_type": "markdown",
      "source": [
        "# Save Dataset csv\n"
      ],
      "metadata": {
        "id": "1gL58EGuSiAh"
      }
    },
    {
      "cell_type": "code",
      "source": [
        "# Save the cleaned reviews DataFrame to a CSV file\n",
        "reviews.to_csv('/content/drive/MyDrive/DataMining/Dataset/reviews_podcast_cleaned.csv', sep=',', index=False)"
      ],
      "metadata": {
        "id": "iapvaI2HR9TH"
      },
      "execution_count": null,
      "outputs": []
    },
    {
      "cell_type": "code",
      "source": [
        "import pandas as pd\n",
        "\n",
        "# Select only the reviews from the year 2020 and the columns 'content' and 'rating'\n",
        "reviews_2020 = reviews.loc[reviews['Year'] == 2020, ['content', 'rating']].copy()"
      ],
      "metadata": {
        "id": "NoY9Mj2nvAoB"
      },
      "execution_count": null,
      "outputs": []
    },
    {
      "cell_type": "code",
      "source": [
        "print(reviews_2020.shape[0])"
      ],
      "metadata": {
        "colab": {
          "base_uri": "https://localhost:8080/"
        },
        "id": "qjiAfz0vvNKH",
        "outputId": "b172b397-c41c-4741-b38e-69f85164add4"
      },
      "execution_count": null,
      "outputs": [
        {
          "output_type": "stream",
          "name": "stdout",
          "text": [
            "1127656\n"
          ]
        }
      ]
    },
    {
      "cell_type": "code",
      "source": [
        "# Save the reviews from the year 2020 to a CSV file\n",
        "reviews_2020.to_csv('/content/drive/MyDrive/DataMining/Dataset/reviews_podcast_2020.csv', sep=',', index=False)"
      ],
      "metadata": {
        "id": "qpy3cgjOx-WQ"
      },
      "execution_count": null,
      "outputs": []
    }
  ]
}
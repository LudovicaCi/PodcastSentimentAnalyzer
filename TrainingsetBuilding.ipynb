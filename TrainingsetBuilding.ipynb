{
  "nbformat": 4,
  "nbformat_minor": 0,
  "metadata": {
    "colab": {
      "provenance": [],
      "mount_file_id": "1_QiFsngdOQcADnzdFpv52Knp3zOlq7yX",
      "authorship_tag": "ABX9TyNtQ0y05AVHk03B7YB+CtN/",
      "include_colab_link": true
    },
    "kernelspec": {
      "name": "python3",
      "display_name": "Python 3"
    },
    "language_info": {
      "name": "python"
    }
  },
  "cells": [
    {
      "cell_type": "markdown",
      "metadata": {
        "id": "view-in-github",
        "colab_type": "text"
      },
      "source": [
        "<a href=\"https://colab.research.google.com/github/LudovicaCi/PodcastSentimentAnalyzer/blob/main/TrainingsetBuilding.ipynb\" target=\"_parent\"><img src=\"https://colab.research.google.com/assets/colab-badge.svg\" alt=\"Open In Colab\"/></a>"
      ]
    },
    {
      "cell_type": "markdown",
      "source": [
        "\n",
        "# Training Set Building\n",
        "\n"
      ],
      "metadata": {
        "id": "U_hpaqej2fw4"
      }
    },
    {
      "cell_type": "code",
      "execution_count": null,
      "metadata": {
        "id": "ILnna4AczTPV"
      },
      "outputs": [],
      "source": [
        "import pandas as pd\n",
        "\n",
        "reviews = pd.read_csv('/content/drive/MyDrive/DataMining/Dataset/reviews_podcast_2020.csv')"
      ]
    },
    {
      "cell_type": "code",
      "source": [
        "print(reviews.columns)"
      ],
      "metadata": {
        "id": "utHIrD7Yz5db",
        "colab": {
          "base_uri": "https://localhost:8080/"
        },
        "outputId": "925ad9b2-68d7-4d3a-8a5b-19891a573c68"
      },
      "execution_count": null,
      "outputs": [
        {
          "output_type": "stream",
          "name": "stdout",
          "text": [
            "Index(['content', 'rating'], dtype='object')\n"
          ]
        }
      ]
    },
    {
      "cell_type": "code",
      "source": [
        "df = reviews"
      ],
      "metadata": {
        "id": "9CXaMCpI2SwH"
      },
      "execution_count": null,
      "outputs": []
    },
    {
      "cell_type": "code",
      "source": [
        "# Map ratings to classes\n",
        "class_mapping = {\n",
        "    5: 'positive',\n",
        "    3: 'neutral',\n",
        "    1: 'negative'\n",
        "}\n",
        "\n",
        "# Replace values in the 'rating' column with the corresponding classes\n",
        "df['rating'] = df['rating'].replace(class_mapping)\n",
        "\n",
        "# Display the DataFrame with ratings replaced by classes\n",
        "print(df.head())"
      ],
      "metadata": {
        "colab": {
          "base_uri": "https://localhost:8080/"
        },
        "id": "7O2tHWop2AMm",
        "outputId": "8e85b9e7-4644-4a06-c9b5-662f4e33c2f0"
      },
      "execution_count": null,
      "outputs": [
        {
          "output_type": "stream",
          "name": "stdout",
          "text": [
            "                       content    rating\n",
            "0                   take me on  positive\n",
            "1       show off the quads pft  positive\n",
            "2            best fill in ever  positive\n",
            "3          i needed this today  positive\n",
            "4  i need so much more of this  positive\n"
          ]
        }
      ]
    },
    {
      "cell_type": "code",
      "source": [
        "# Create three separate DataFrames for each rating class\n",
        "df_positive = df[df['rating'] == 'positive'].copy()\n",
        "df_neutral = df[df['rating'] == 'neutral'].copy()\n",
        "df_negative = df[df['rating'] == 'negative'].copy()\n",
        "\n",
        "# Display the first five elements of each DataFrame\n",
        "print(\"Positive DataFrame:\")\n",
        "print(df_positive.head())\n",
        "print(df_positive.shape[0])\n",
        "\n",
        "print(\"\\nNeutral DataFrame:\")\n",
        "print(df_neutral.head())\n",
        "print(df_neutral.shape[0])\n",
        "\n",
        "print(\"\\nNegative DataFrame:\")\n",
        "print(df_negative.head())\n",
        "print(df_negative.shape[0])"
      ],
      "metadata": {
        "colab": {
          "base_uri": "https://localhost:8080/"
        },
        "id": "wy3OJba92tnt",
        "outputId": "3e67b81c-7eaf-4996-883e-442635a81581"
      },
      "execution_count": null,
      "outputs": [
        {
          "output_type": "stream",
          "name": "stdout",
          "text": [
            "Positive DataFrame:\n",
            "                       content    rating\n",
            "0                   take me on  positive\n",
            "1       show off the quads pft  positive\n",
            "2            best fill in ever  positive\n",
            "3          i needed this today  positive\n",
            "4  i need so much more of this  positive\n",
            "978798\n",
            "\n",
            "Neutral DataFrame:\n",
            "                                               content   rating\n",
            "87   i am only on episode until now i binged and lo...  neutral\n",
            "117  if it wasnt for brit i would give you a star r...  neutral\n",
            "132  great story telling by dr phill but the music ...  neutral\n",
            "155  kara is a self centered narcissistic who think...  neutral\n",
            "166  do several podcasts in a couple days to stock ...  neutral\n",
            "26412\n",
            "\n",
            "Negative DataFrame:\n",
            "                                              content    rating\n",
            "15  look elsewhere for thoughtful and unbiased nfl...  negative\n",
            "18    without chris carter the show isnt good anymore  negative\n",
            "27  ive tried a few different times but cant get p...  negative\n",
            "29  hours minutes minutes of which was spent on th...  negative\n",
            "42  im tired of men not taking responsibility for ...  negative\n",
            "70380\n"
          ]
        }
      ]
    },
    {
      "cell_type": "code",
      "source": [
        "# Determine the minimum number of reviews per class\n",
        "min_reviews_per_class = min(len(df_positive), len(df_neutral), len(df_negative))\n",
        "\n",
        "# Sample the same number of reviews from each DataFrame\n",
        "df_balanced = pd.concat([\n",
        "    df_positive.sample(min_reviews_per_class, random_state=42),\n",
        "    df_neutral.sample(min_reviews_per_class, random_state=42),\n",
        "    df_negative.sample(min_reviews_per_class, random_state=42)\n",
        "])\n",
        "\n",
        "# Display the balanced DataFrame\n",
        "print(df_balanced.head())"
      ],
      "metadata": {
        "colab": {
          "base_uri": "https://localhost:8080/"
        },
        "id": "aWYTCFlR0ygS",
        "outputId": "1b33b743-54e3-4ebf-9f42-e2f64a0e15ff"
      },
      "execution_count": null,
      "outputs": [
        {
          "output_type": "stream",
          "name": "stdout",
          "text": [
            "                                                  content    rating\n",
            "563136  the way he speaks gets me excited ive shared t...  positive\n",
            "699299  i listen to a lot of political podcasts while ...  positive\n",
            "688315  with my background ive always been interested ...  positive\n",
            "886357  raw purposedriven and vulnerable jameelah is l...  positive\n",
            "363986  ive been following jomboy since he had less th...  positive\n"
          ]
        }
      ]
    },
    {
      "cell_type": "code",
      "source": [
        "import matplotlib.pyplot as plt\n",
        "\n",
        "ratings_distribution = df_balanced['rating'].value_counts()\n",
        "\n",
        "# Display the distribution of the training set\n",
        "plt.bar(ratings_distribution.index, ratings_distribution.values, color=['green', 'gray', 'red'])\n",
        "plt.title('Distribution of the Training Set by Rating')\n",
        "plt.xlabel('Rating')\n",
        "plt.ylabel('Number of Reviews')\n",
        "plt.show()"
      ],
      "metadata": {
        "colab": {
          "base_uri": "https://localhost:8080/",
          "height": 472
        },
        "id": "9MgHJx4T4dC6",
        "outputId": "ad277bb2-01b2-4738-cab9-b9a45c412974"
      },
      "execution_count": null,
      "outputs": [
        {
          "output_type": "display_data",
          "data": {
            "text/plain": [
              "<Figure size 640x480 with 1 Axes>"
            ],
            "image/png": "[encoded data removed]"
          },
          "metadata": {}
        }
      ]
    },
    {
      "cell_type": "code",
      "source": [
        "# Save the balanced DataFrame to a CSV file\n",
        "df_balanced.to_csv('/content/drive/MyDrive/DataMining/Dataset/trainingSet.csv', index=False)"
      ],
      "metadata": {
        "id": "lyC4cwFm6QQX"
      },
      "execution_count": null,
      "outputs": []
    }
  ]
}